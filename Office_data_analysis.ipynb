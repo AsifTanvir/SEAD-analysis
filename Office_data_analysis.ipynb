{
 "cells": [
  {
   "cell_type": "code",
   "execution_count": 7,
   "metadata": {},
   "outputs": [
    {
     "name": "stdout",
     "output_type": "stream",
     "text": [
      "<bound method NDFrame.head of              date   time       seconds  state    sensor_name    thing_name  \\\n",
      "0      2024-07-02  00:02  1.719897e+09    1.0  Motion Sensor  OfficeMainPi   \n",
      "1      2024-07-02  00:02  1.719897e+09    0.0  Motion Sensor  OfficeMainPi   \n",
      "2      2024-07-02  00:03  1.719897e+09    1.0  Motion Sensor  OfficeMainPi   \n",
      "3      2024-07-02  00:03  1.719897e+09    0.0  Motion Sensor  OfficeMainPi   \n",
      "4      2024-07-02  00:04  1.719897e+09    1.0  Motion Sensor  OfficeMainPi   \n",
      "...           ...    ...           ...    ...            ...           ...   \n",
      "35364  2024-10-01  14:43  1.727812e+09    0.0   Light Sensor  OfficeMainPi   \n",
      "35365  2024-10-01  14:43  1.727812e+09    1.0  Motion Sensor  OfficeMainPi   \n",
      "35366  2024-10-01  14:43  1.727812e+09    0.0  Motion Sensor  OfficeMainPi   \n",
      "35367  2024-10-01  14:43  1.727812e+09    0.0    Door Sensor  OfficeMainPi   \n",
      "35844    10/01/24  14:43  1.727812e+09    0.0    Office Bulb      PiClient   \n",
      "\n",
      "             thing_ip                      datetime  \n",
      "0       192.168.86.93 2024-07-02 05:02:36.299742699  \n",
      "1       192.168.86.93 2024-07-02 05:02:37.302834034  \n",
      "2       192.168.86.93 2024-07-02 05:03:36.202801228  \n",
      "3       192.168.86.93 2024-07-02 05:03:37.206034899  \n",
      "4       192.168.86.93 2024-07-02 05:04:36.349423170  \n",
      "...               ...                           ...  \n",
      "35364   192.168.4.149 2024-10-01 19:43:19.576232910  \n",
      "35365   192.168.86.93 2024-10-01 19:43:23.095306635  \n",
      "35366   192.168.86.93 2024-10-01 19:43:24.348966837  \n",
      "35367   192.168.86.93 2024-10-01 19:43:26.855588913  \n",
      "35844  192.168.86.149 2024-10-01 19:43:28.147953510  \n",
      "\n",
      "[35845 rows x 8 columns]>\n"
     ]
    }
   ],
   "source": [
    "import pandas as pd\n",
    "\n",
    "# Load the two CSV files\n",
    "df1 = pd.read_csv('office_group_records_07_02.csv')\n",
    "df2 = pd.read_csv('office_actuator_records.csv')\n",
    "\n",
    "# Combine the two DataFrames (concatenating rows)\n",
    "combined_office_data = pd.concat([df1, df2], ignore_index=True)\n",
    "\n",
    "# Convert the 'datetime' column to a datetime data type if necessary\n",
    "combined_office_data['datetime'] = pd.to_datetime(combined_office_data['seconds'], unit='s')\n",
    "# combined_office_data['datetime'] = pd.to_datetime(combined_office_data['date'] + ' ' + combined_office_data['time'], format='%d/%m/%y %H:%M')\n",
    "\n",
    "# Sort by the 'datetime' column\n",
    "combined_office_data = combined_office_data.sort_values(by='datetime')\n",
    "\n",
    "# Display the sorted, combined DataFrame\n",
    "print(combined_office_data.head)\n"
   ]
  }
 ],
 "metadata": {
  "kernelspec": {
   "display_name": "base",
   "language": "python",
   "name": "python3"
  },
  "language_info": {
   "codemirror_mode": {
    "name": "ipython",
    "version": 3
   },
   "file_extension": ".py",
   "mimetype": "text/x-python",
   "name": "python",
   "nbconvert_exporter": "python",
   "pygments_lexer": "ipython3",
   "version": "3.12.3"
  }
 },
 "nbformat": 4,
 "nbformat_minor": 2
}
