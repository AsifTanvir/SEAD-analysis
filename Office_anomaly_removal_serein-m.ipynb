{
 "cells": [
  {
   "cell_type": "code",
   "execution_count": 23,
   "metadata": {},
   "outputs": [
    {
     "name": "stdout",
     "output_type": "stream",
     "text": [
      "['Office Door Sensor' 'Office Door Motion Sensor' 'Desk Motion Sensor'\n",
      " 'Office Light Sensor']\n",
      "(121535, 8)\n"
     ]
    }
   ],
   "source": [
    "import pandas as pd\n",
    "import matplotlib.pyplot as plt\n",
    "\n",
    "# Load the two CSV files\n",
    "# df1 = pd.read_csv('./Data/Prof_Office_Data/office_group_records_07_02.csv')\n",
    "\n",
    "df1 = pd.read_csv('./Data/Prof_Office_Data/office_group_records_all.csv')\n",
    "# df2 = pd.read_csv('./Data/Prof_Office_Data/office_actuator_records.csv')\n",
    "\n",
    "#original_df = df1.copy() #Keep a copy to compare\n",
    "## Toggle the values of Light Sensor.\n",
    "df1.loc[df1['sensor_name'] == 'Light Sensor', 'state'] = 1 - df1['state']\n",
    "\n",
    "# # Find rows where 'state' has changed\n",
    "# changed_rows = df1[df1['state'] != original_df['state']]\n",
    "\n",
    "# # Display only the changed rows\n",
    "# print(changed_rows)\n",
    "\n",
    "#remove the motion sensor data\n",
    "# filtered_df1 = df1[df1['sensor_name'] != 'Motion Sensor']\n",
    "# print(filtered_df1)\n",
    "\n",
    "\n",
    "# Combine the two DataFrames (concatenating rows)\n",
    "# combined_office_data = pd.concat([df1, df2], ignore_index=True)\n",
    "combined_office_data = df1\n",
    "\n",
    "# Convert the 'datetime' column to a datetime data type if necessary\n",
    "combined_office_data['datetime'] = pd.to_datetime(combined_office_data['seconds'], unit='s')\n",
    "# combined_office_data['datetime'] = pd.to_datetime(combined_office_data['date'] + ' ' + combined_office_data['time'], format='%d/%m/%y %H:%M')\n",
    "\n",
    "# Sort by the 'datetime' column\n",
    "combined_office_data = combined_office_data.sort_values(by='datetime')\n",
    "\n",
    "# Display the sorted, combined DataFrame\n",
    "# print(combined_office_data.head)\n",
    "unique_items = combined_office_data['sensor_name'].unique()\n",
    "print(unique_items)\n",
    "print(combined_office_data.shape)"
   ]
  },
  {
   "cell_type": "code",
   "execution_count": 2,
   "metadata": {},
   "outputs": [],
   "source": [
    "from sklearn.ensemble import IsolationForest\n",
    "\n",
    "def anomaly_detection_and_removal(df, timeWindow = 'h'):\n",
    "    df = df.set_index('datetime') #make the date column as index\n",
    "\n",
    "    # combined_office_data_filtered = combined_office_data.between_time('07:00', '19:00')\n",
    "    # print(combined_office_data.size, combined_office_data_filtered.size)\n",
    "    df_hourly = df.state.resample(timeWindow).sum() #resample on hourly basis and get summary of sensor values on 2 hours.\n",
    "\n",
    "    df_hourly = df_hourly.between_time('08:00', '18:00')\n",
    "    df_hourly = df_hourly.reset_index()\n",
    "    \n",
    "    values = df_hourly[['state']]  # Selecting the 'values' column as input for the model\n",
    "\n",
    "    # Initialize and fit the IsolationForest model\n",
    "    model = IsolationForest(contamination='auto', random_state=42)\n",
    "    df_hourly['anomaly'] = model.fit_predict(values)\n",
    "\n",
    "    # Isolation Forest outputs:\n",
    "    # -1 for anomalies\n",
    "    #  1 for normal data points\n",
    "\n",
    "    # Filter the anomalies\n",
    "    # anomalies = lab_hourly[lab_hourly['anomaly'] == -1]\n",
    "    regular = df_hourly[df_hourly['anomaly'] == 1]\n",
    "    \n",
    "\n",
    "    regular_date = regular.set_index('datetime')\n",
    "    regular_idx = regular_date.index\n",
    "    # print(regular_idx)\n",
    "\n",
    "    # Filtering out the hourly anomalous data from the original data\n",
    "    filtered_df = df[df.index.floor(timeWindow).isin(regular_idx)].reset_index()\n",
    "    return filtered_df"
   ]
  },
  {
   "cell_type": "code",
   "execution_count": 12,
   "metadata": {},
   "outputs": [],
   "source": [
    "from math import ceil\n",
    "from sklearn.cluster import SpectralClustering\n",
    "from sklearn.manifold import SpectralEmbedding\n",
    "from sklearn.metrics import calinski_harabasz_score, silhouette_score, davies_bouldin_score\n",
    "\n",
    "\n",
    "def get_adjMat_FNE(data):\n",
    "    u = data.sensor_name.unique()\n",
    "    adjMatrix = pd.DataFrame(0.0, columns=u, index=u)\n",
    "    prevRow = data.iloc[0]\n",
    "    for _,curRow in data.iterrows():\n",
    "        if (curRow.sensor_name != prevRow.sensor_name):\n",
    "            t = max(ceil(curRow.seconds - prevRow.seconds), 1.0)\n",
    "            # t = max(ceil((curRow.DateTime - prevRow.DateTime).total_seconds()),1.0)\n",
    "            adjMatrix[prevRow.sensor_name][curRow.sensor_name] += 1/t\n",
    "        prevRow = curRow\n",
    "    \n",
    "    return adjMatrix\n",
    "\n",
    "def get_adjMat_TD(data):\n",
    "    u = data.sensor_name.unique()\n",
    "    adjMatrix = pd.DataFrame(0.0, columns=u, index=u)\n",
    "    curGroup = []\n",
    "    th = 2\n",
    "    prevRow = data.iloc[0]\n",
    "    for _, curRow in data.iterrows():\n",
    "        if ((curRow.seconds - prevRow.seconds) >= th):\n",
    "            curGroup = []\n",
    "        if not(curRow.sensor_name in curGroup):\n",
    "            curGroup.append(curRow.sensor_name)\n",
    "        for item in curGroup:\n",
    "            adjMatrix[item][curRow.sensor_name] += 1\n",
    "        prevRow = curRow\n",
    "    \n",
    "    return adjMatrix\n",
    "\n",
    "def normalize(df_adj):\n",
    "    r=0\n",
    "    norm = df_adj.copy()\n",
    "    for index, row in norm.iterrows():\n",
    "        mx = 0\n",
    "        mn = 0\n",
    "        c = 0\n",
    "        for value in row:\n",
    "            mx = max(mx, value)\n",
    "            mn = min(mn, value)\n",
    "            if not mx-mn == 0:\n",
    "                norm.iloc[r,c] = (value-mn)/(mx-mn)\n",
    "            c += 1\n",
    "        r += 1\n",
    "    return norm\n",
    "\n",
    "def get_clusters_and_scores(adjMat, n_clusters):\n",
    "    #normalize matrix\n",
    "    adjMat = normalize(adjMat)\n",
    "    sp = SpectralClustering(n_clusters,affinity=\"precomputed\")\n",
    "    clus = sp.fit_predict(adjMat)\n",
    "    display(pd.DataFrame(clus,index=adjMat.index))\n",
    "\n",
    "    embedding = SpectralEmbedding(n_components=2, affinity='precomputed')    \n",
    "    features = embedding.fit_transform(adjMat)\n",
    "\n",
    "    cluster_score_dict = {}\n",
    "    ch_score = calinski_harabasz_score(features, clus)\n",
    "    silhouette_avg = silhouette_score(features, clus)\n",
    "    db_score = davies_bouldin_score(features, clus)\n",
    "\n",
    "    cluster_score_dict['cluster_number'] = n_clusters\n",
    "    cluster_score_dict['ch-score'] = ch_score\n",
    "    cluster_score_dict['silhoutte-score'] = silhouette_avg\n",
    "    cluster_score_dict['db-score'] = db_score\n",
    "    cluster_score_dict['cluster'] = clus\n",
    "    print(cluster_score_dict)"
   ]
  },
  {
   "cell_type": "code",
   "execution_count": 14,
   "metadata": {},
   "outputs": [
    {
     "name": "stderr",
     "output_type": "stream",
     "text": [
      "C:\\Users\\ASUS\\AppData\\Local\\Temp\\ipykernel_32352\\136807427.py:15: FutureWarning: ChainedAssignmentError: behaviour will change in pandas 3.0!\n",
      "You are setting values through chained assignment. Currently this works in certain cases, but when using Copy-on-Write (which will become the default behaviour in pandas 3.0) this will never work to update the original DataFrame or Series, because the intermediate object on which we are setting values will behave as a copy.\n",
      "A typical example is when you are setting values in a column of a DataFrame, like:\n",
      "\n",
      "df[\"col\"][row_indexer] = value\n",
      "\n",
      "Use `df.loc[row_indexer, \"col\"] = values` instead, to perform the assignment in a single step and ensure this keeps updating the original `df`.\n",
      "\n",
      "See the caveats in the documentation: https://pandas.pydata.org/pandas-docs/stable/user_guide/indexing.html#returning-a-view-versus-a-copy\n",
      "\n",
      "  adjMatrix[prevRow.sensor_name][curRow.sensor_name] += 1/t\n",
      "c:\\Users\\ASUS\\anaconda3\\Lib\\site-packages\\sklearn\\manifold\\_spectral_embedding.py:275: UserWarning: Array is not symmetric, and will be converted to symmetric by average with its transpose.\n",
      "  adjacency = check_symmetric(adjacency)\n",
      "c:\\Users\\ASUS\\anaconda3\\Lib\\site-packages\\sklearn\\cluster\\_kmeans.py:1446: UserWarning: KMeans is known to have a memory leak on Windows with MKL, when there are less chunks than available threads. You can avoid it by setting the environment variable OMP_NUM_THREADS=1.\n",
      "  warnings.warn(\n"
     ]
    },
    {
     "data": {
      "text/html": [
       "<div>\n",
       "<style scoped>\n",
       "    .dataframe tbody tr th:only-of-type {\n",
       "        vertical-align: middle;\n",
       "    }\n",
       "\n",
       "    .dataframe tbody tr th {\n",
       "        vertical-align: top;\n",
       "    }\n",
       "\n",
       "    .dataframe thead th {\n",
       "        text-align: right;\n",
       "    }\n",
       "</style>\n",
       "<table border=\"1\" class=\"dataframe\">\n",
       "  <thead>\n",
       "    <tr style=\"text-align: right;\">\n",
       "      <th></th>\n",
       "      <th>0</th>\n",
       "    </tr>\n",
       "  </thead>\n",
       "  <tbody>\n",
       "    <tr>\n",
       "      <th>Office Door Sensor</th>\n",
       "      <td>0</td>\n",
       "    </tr>\n",
       "    <tr>\n",
       "      <th>Office Door Motion Sensor</th>\n",
       "      <td>0</td>\n",
       "    </tr>\n",
       "    <tr>\n",
       "      <th>Desk Motion Sensor</th>\n",
       "      <td>0</td>\n",
       "    </tr>\n",
       "    <tr>\n",
       "      <th>Office Light Sensor</th>\n",
       "      <td>1</td>\n",
       "    </tr>\n",
       "  </tbody>\n",
       "</table>\n",
       "</div>"
      ],
      "text/plain": [
       "                           0\n",
       "Office Door Sensor         0\n",
       "Office Door Motion Sensor  0\n",
       "Desk Motion Sensor         0\n",
       "Office Light Sensor        1"
      ]
     },
     "metadata": {},
     "output_type": "display_data"
    },
    {
     "name": "stdout",
     "output_type": "stream",
     "text": [
      "{'cluster_number': 2, 'ch-score': 2.518521120058155, 'silhoutte-score': 0.2280208548149661, 'db-score': 0.430312430250712, 'cluster': array([0, 0, 0, 1])}\n"
     ]
    },
    {
     "name": "stderr",
     "output_type": "stream",
     "text": [
      "c:\\Users\\ASUS\\anaconda3\\Lib\\site-packages\\sklearn\\manifold\\_spectral_embedding.py:275: UserWarning: Array is not symmetric, and will be converted to symmetric by average with its transpose.\n",
      "  adjacency = check_symmetric(adjacency)\n"
     ]
    }
   ],
   "source": [
    "adjMat_FNE = get_adjMat_FNE(combined_office_data)\n",
    "get_clusters_and_scores(adjMat_FNE,2)"
   ]
  },
  {
   "cell_type": "code",
   "execution_count": null,
   "metadata": {},
   "outputs": [
    {
     "name": "stdout",
     "output_type": "stream",
     "text": [
      "(919, 8)\n"
     ]
    },
    {
     "name": "stderr",
     "output_type": "stream",
     "text": [
      "C:\\Users\\ASUS\\AppData\\Local\\Temp\\ipykernel_32352\\136807427.py:15: FutureWarning: ChainedAssignmentError: behaviour will change in pandas 3.0!\n",
      "You are setting values through chained assignment. Currently this works in certain cases, but when using Copy-on-Write (which will become the default behaviour in pandas 3.0) this will never work to update the original DataFrame or Series, because the intermediate object on which we are setting values will behave as a copy.\n",
      "A typical example is when you are setting values in a column of a DataFrame, like:\n",
      "\n",
      "df[\"col\"][row_indexer] = value\n",
      "\n",
      "Use `df.loc[row_indexer, \"col\"] = values` instead, to perform the assignment in a single step and ensure this keeps updating the original `df`.\n",
      "\n",
      "See the caveats in the documentation: https://pandas.pydata.org/pandas-docs/stable/user_guide/indexing.html#returning-a-view-versus-a-copy\n",
      "\n",
      "  adjMatrix[prevRow.sensor_name][curRow.sensor_name] += 1/t\n",
      "c:\\Users\\ASUS\\anaconda3\\Lib\\site-packages\\sklearn\\manifold\\_spectral_embedding.py:275: UserWarning: Array is not symmetric, and will be converted to symmetric by average with its transpose.\n",
      "  adjacency = check_symmetric(adjacency)\n",
      "c:\\Users\\ASUS\\anaconda3\\Lib\\site-packages\\sklearn\\cluster\\_kmeans.py:1446: UserWarning: KMeans is known to have a memory leak on Windows with MKL, when there are less chunks than available threads. You can avoid it by setting the environment variable OMP_NUM_THREADS=1.\n",
      "  warnings.warn(\n"
     ]
    },
    {
     "data": {
      "text/html": [
       "<div>\n",
       "<style scoped>\n",
       "    .dataframe tbody tr th:only-of-type {\n",
       "        vertical-align: middle;\n",
       "    }\n",
       "\n",
       "    .dataframe tbody tr th {\n",
       "        vertical-align: top;\n",
       "    }\n",
       "\n",
       "    .dataframe thead th {\n",
       "        text-align: right;\n",
       "    }\n",
       "</style>\n",
       "<table border=\"1\" class=\"dataframe\">\n",
       "  <thead>\n",
       "    <tr style=\"text-align: right;\">\n",
       "      <th></th>\n",
       "      <th>0</th>\n",
       "    </tr>\n",
       "  </thead>\n",
       "  <tbody>\n",
       "    <tr>\n",
       "      <th>Office Door Sensor</th>\n",
       "      <td>0</td>\n",
       "    </tr>\n",
       "    <tr>\n",
       "      <th>Office Door Motion Sensor</th>\n",
       "      <td>0</td>\n",
       "    </tr>\n",
       "    <tr>\n",
       "      <th>Office Light Sensor</th>\n",
       "      <td>1</td>\n",
       "    </tr>\n",
       "  </tbody>\n",
       "</table>\n",
       "</div>"
      ],
      "text/plain": [
       "                           0\n",
       "Office Door Sensor         0\n",
       "Office Door Motion Sensor  0\n",
       "Office Light Sensor        1"
      ]
     },
     "metadata": {},
     "output_type": "display_data"
    },
    {
     "name": "stdout",
     "output_type": "stream",
     "text": [
      "{'cluster_number': 2, 'ch-score': 1.7204743874212625, 'silhoutte-score': 0.12849319496915165, 'db-score': 0.4401647571661937, 'cluster': array([0, 0, 1])}\n"
     ]
    },
    {
     "name": "stderr",
     "output_type": "stream",
     "text": [
      "c:\\Users\\ASUS\\anaconda3\\Lib\\site-packages\\sklearn\\manifold\\_spectral_embedding.py:275: UserWarning: Array is not symmetric, and will be converted to symmetric by average with its transpose.\n",
      "  adjacency = check_symmetric(adjacency)\n",
      "c:\\Users\\ASUS\\anaconda3\\Lib\\site-packages\\sklearn\\manifold\\_spectral_embedding.py:344: RuntimeWarning: k >= N for N * N square matrix. Attempting to use scipy.linalg.eigh instead.\n",
      "  _, diffusion_map = eigsh(\n"
     ]
    },
    {
     "ename": "",
     "evalue": "",
     "output_type": "error",
     "traceback": [
      "\u001b[1;31mThe Kernel crashed while executing code in the current cell or a previous cell. \n",
      "\u001b[1;31mPlease review the code in the cell(s) to identify a possible cause of the failure. \n",
      "\u001b[1;31mClick <a href='https://aka.ms/vscodeJupyterKernelCrash'>here</a> for more info. \n",
      "\u001b[1;31mView Jupyter <a href='command:jupyter.viewOutput'>log</a> for further details."
     ]
    }
   ],
   "source": [
    "fd = anomaly_detection_and_removal(combined_office_data, '4h')\n",
    "print(fd.shape)\n",
    "adjMat_FNE_Filtered = get_adjMat_FNE(fd)\n",
    "get_clusters_and_scores(adjMat_FNE_Filtered,2)"
   ]
  }
 ],
 "metadata": {
  "kernelspec": {
   "display_name": "base",
   "language": "python",
   "name": "python3"
  },
  "language_info": {
   "codemirror_mode": {
    "name": "ipython",
    "version": 3
   },
   "file_extension": ".py",
   "mimetype": "text/x-python",
   "name": "python",
   "nbconvert_exporter": "python",
   "pygments_lexer": "ipython3",
   "version": "3.12.3"
  }
 },
 "nbformat": 4,
 "nbformat_minor": 2
}
